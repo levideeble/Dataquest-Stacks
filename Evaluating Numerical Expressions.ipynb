{
 "cells": [
  {
   "cell_type": "markdown",
   "metadata": {
    "collapsed": true
   },
   "source": [
    "# Evaluating Numerical Expressions\n",
    "\n",
    "## Introduction\n",
    "\n",
    "In this project, we will use stacks to implement an algorithm that can evaluate complex numerical expressions that are stored in string format (e.g. \"12 / ( 2 + 4 ) * 21\"). We will use the stack data structure to schedule our processes.\n",
    "\n",
    "Before we start describing and implementing the algorithm, let's implement a stack data structure class. This will incorporate the LinkedList class, which we will import from the `linked_list.py` script."
   ]
  },
  {
   "cell_type": "code",
   "execution_count": 1,
   "metadata": {},
   "outputs": [],
   "source": [
    "# Implement the Stack scheduling algorithm\n",
    "from linked_list import LinkedList\n",
    "\n",
    "class Stack(LinkedList):\n",
    "    \n",
    "    def push(self, data): # Add node onto top of stack\n",
    "        self.append(data)\n",
    "        \n",
    "    def peek(self): # Return the top node of the stack\n",
    "        return self.tail.data\n",
    "    \n",
    "    def pop(self): # Return the top node of the stack and remove it\n",
    "        ret = self.tail.data\n",
    "        \n",
    "        if self.length == 1:\n",
    "            self.tail = self.head = None\n",
    "        else:\n",
    "            self.tail = self.tail.prev\n",
    "            self.tail.next = None\n",
    "        self.length -= 1\n",
    "        \n",
    "        return ret"
   ]
  },
  {
   "cell_type": "markdown",
   "metadata": {},
   "source": [
    "## Implement the Tokenise Function\n",
    "\n",
    "We are going to implement our evaluation algorithm so that it evaluates expressions written in postfix notation, where the operands appear before the operator (e.g 1 2 +). This makes it much easier for the computer to process.\n",
    "\n",
    "The first step in doing this is to implement a function `tokenise()` that will tokenise the postfix numerical expression, that is to return a list of the separate elements.\n",
    "For simplicity, we will assume that the postfix expression string contains spaces between any two tokens."
   ]
  },
  {
   "cell_type": "code",
   "execution_count": 2,
   "metadata": {},
   "outputs": [
    {
     "name": "stdout",
     "output_type": "stream",
     "text": [
      "['12', '2', '4', '+', '/', '21', '*']\n"
     ]
    }
   ],
   "source": [
    "# Create a tokenise() function\n",
    "def tokenise(expression):\n",
    "    return expression.split()\n",
    "\n",
    "# Test the implementation\n",
    "expression = \"12 2 4 + / 21 *\"\n",
    "\n",
    "print(tokenise(expression))"
   ]
  },
  {
   "cell_type": "markdown",
   "metadata": {},
   "source": [
    "## Processing an Operator\n",
    "\n",
    "To evaluate an expression in postfix notation using a stack, we must read the expression from left to right and do the following:\n",
    "\n",
    "1. If we find a number, then we push that number to the top of the stack.\n",
    "2. If we find an operator, we pop the top two elements of the stack, perform the operation, and then push the result to the top of the stack.\n",
    "\n",
    "However, when we find an operator and pop the top two elements of the stack, it is important that we ensure we operate those two numbers in the correct order (i.e the operations `1 - 2` and `2 - 1` produce different results).\n",
    "Therefore, the element at the top of the stack is actually the second operand in the expression, while the element that is second to top is the first operand.\n",
    "\n",
    "Let's write functions to correctly process the `-`, `+`, `*`, `/` and `**` operators."
   ]
  },
  {
   "cell_type": "code",
   "execution_count": 3,
   "metadata": {},
   "outputs": [],
   "source": [
    "# A function to process the - token\n",
    "def process_minus(stack):\n",
    "    top = stack.pop()\n",
    "    second_to_top = stack.pop()\n",
    "    result = second_to_top - top\n",
    "    stack.push(result)\n",
    "    \n",
    "# A function to process the + token\n",
    "def process_plus(stack):\n",
    "    top = stack.pop()\n",
    "    second_to_top = stack.pop()\n",
    "    result = second_to_top + top\n",
    "    stack.push(result)\n",
    "\n",
    "# A function to process the * token\n",
    "def process_times(stack):\n",
    "    top = stack.pop()\n",
    "    second_to_top = stack.pop()\n",
    "    result = second_to_top * top\n",
    "    stack.push(result)\n",
    "    \n",
    "# A function to process the / token\n",
    "def process_divide(stack):\n",
    "    top = stack.pop()\n",
    "    second_to_top = stack.pop()\n",
    "    result = second_to_top / top\n",
    "    stack.push(result)\n",
    "    \n",
    "# A function to process the ** token\n",
    "def process_pow(stack):\n",
    "    top = stack.pop()\n",
    "    second_to_top = stack.pop()\n",
    "    result = second_to_top ** top\n",
    "    stack.push(result)"
   ]
  },
  {
   "cell_type": "markdown",
   "metadata": {},
   "source": [
    "## Evaluating Postfix Expressions\n",
    "\n",
    "We can now implement an algorithm to evaluate an expression in postfix notation. To do so, we need to do the following:\n",
    "\n",
    "1. Tokenise the expression using the `tokenise()` function.\n",
    "2. Initialise an empty stack.\n",
    "3. For each token, do the following:\n",
    "   1. If the token is an operator, call the corresponding function to process it. For example, if we find a `+`, we call the `process_plus()` function.\n",
    "   2. Otherwise (the token is a number) we push that number to the top of the stack. Since each token is in a string, we'll need to convert it to a `float` first.\n",
    "4. Return the value that is left in the stack.\n",
    "\n",
    "\n",
    "   "
   ]
  },
  {
   "cell_type": "code",
   "execution_count": 4,
   "metadata": {},
   "outputs": [
    {
     "name": "stdout",
     "output_type": "stream",
     "text": [
      "-2.0\n",
      "8.0\n",
      "0.0\n",
      "2.0\n",
      "11.25\n",
      "45.0\n",
      "42.0\n",
      "4.0\n",
      "2.0\n"
     ]
    }
   ],
   "source": [
    "# Create a function to evaluate a postfix numerical expression\n",
    "def evaluate_postfix(expression):\n",
    "    tokens = tokenise(expression)\n",
    "    stack = Stack()\n",
    "    \n",
    "    for token in tokens:\n",
    "        if token == \"+\":\n",
    "            process_plus(stack)\n",
    "        elif token == \"-\":\n",
    "            process_minus(stack)\n",
    "        elif token == \"*\":\n",
    "            process_times(stack)\n",
    "        elif token == \"/\":\n",
    "            process_divide(stack)\n",
    "        elif token == \"**\":\n",
    "            process_pow(stack)\n",
    "        else:\n",
    "            stack.push(float(token))\n",
    "    \n",
    "    return stack.pop()\n",
    "\n",
    "# Test the implementation\n",
    "expressions = [\n",
    "    \"4 6 -\",\n",
    "    \"4 1 2 9 3 / * + 5 - *\",\n",
    "    \"1 2 + 3 -\",\n",
    "    \"1 2 - 3 +\",\n",
    "    \"10 3 5 * 16 4 - / +\",\n",
    "    \"5 3 4 2 - ** *\",\n",
    "    \"12 2 4 + / 21 *\",\n",
    "    \"1 1 + 2 **\",\n",
    "    \"1 1 2 ** +\"\n",
    "]\n",
    "\n",
    "for expression in expressions:\n",
    "    print(evaluate_postfix(expression))"
   ]
  },
  {
   "cell_type": "markdown",
   "metadata": {},
   "source": [
    "## Operator Precedence in Infix Notation\n",
    "\n",
    "We can now evaluate postfix expressions. However, to make this project more useful, we need to enable our algorithm to evaluate expressions in infix notation. This is how notation is most commonly provided by users, and it is unlikely that they will be familiar with postfix.\n",
    "\n",
    "The first step in doing this is to implement a way of telling the algorithm which operators have the highest precedence within a given expression. In mathematical expressions, `**` operators are evaluated first, followed by `*` and `/`, and then lastly `+` and `-`.\n",
    "\n",
    "We will use numbers to represent the precedence of the operators; the higher the precedence, the higher the number. We will store this information in a dictionary so that it can be made easily accessible to a Shunting-yard algorithm that we will define later."
   ]
  },
  {
   "cell_type": "code",
   "execution_count": 5,
   "metadata": {
    "scrolled": true
   },
   "outputs": [
    {
     "name": "stdout",
     "output_type": "stream",
     "text": [
      "False\n",
      "True\n",
      "True\n"
     ]
    }
   ],
   "source": [
    "# Define a precedence dictionary\n",
    "precedence = {\n",
    "    '+': 1,\n",
    "    '-': 1,\n",
    "    '*': 2,\n",
    "    '/': 2,\n",
    "    '**': 3\n",
    "    }\n",
    "\n",
    "# Test the implementation\n",
    "print(precedence['/'] < precedence['-'])\n",
    "print(precedence['**'] > precedence['*'])\n",
    "print(precedence['+'] == precedence['-'])"
   ]
  },
  {
   "cell_type": "markdown",
   "metadata": {},
   "source": [
    "## Converting Infix to Postfix\n",
    "\n",
    "Next, we will implement a function `infix_to_postfix()` that, given a string with an expression in infix notation, outputs a string with that expression written in postfix notation.\n",
    "\n",
    "This function will implement the Shunting-yard algorithm. It starts by tokenizing the infix expression, and then it prosesses the tokens one by one using a stack. It builds the postfix expression by keeping track of a list named `postfix`, which will contain the list of tokens in postfix order.\n",
    "\n",
    "As this algorithm has quite a few parts, we'll split the implementation into several smaller functions that are responsible for handling one type of token:\n",
    "\n",
    "\n",
    "* Opening parenthesis tokens, `(`:\n",
    "  1. Push the token into the stack for later use when we find a closing parenthesis."
   ]
  },
  {
   "cell_type": "code",
   "execution_count": 6,
   "metadata": {},
   "outputs": [],
   "source": [
    "def process_opening_parenthesis(stack):\n",
    "    stack.push('(')"
   ]
  },
  {
   "cell_type": "markdown",
   "metadata": {},
   "source": [
    "* Closing parenthesis tokens, `)`:\n",
    "  1. While the top of the stack isn't an opening parenthesis, pop the top element and append it to the postfix token list.\n",
    "  2. Pop the opening parentheses out of the stack at the end."
   ]
  },
  {
   "cell_type": "code",
   "execution_count": 7,
   "metadata": {},
   "outputs": [],
   "source": [
    "def process_closing_parenthesis(stack, postfix):\n",
    "    while stack.peek() != '(': # While the top of the stack isn't an opening parenthesis\n",
    "        top = stack.pop()\n",
    "        postfix.append(top)\n",
    "    stack.pop() # This will be the opening parenthesis and shouldn't be stored anywhere"
   ]
  },
  {
   "cell_type": "markdown",
   "metadata": {},
   "source": [
    "* Operator tokens, `+`, `-`, `*`, `/`, or `**`:\n",
    "  1. While the top of the stack is also an operator with a precedence greater than or equal to this operator, pop the top element and append it to the `postfix` token list.\n",
    "  2. Push the current operator to the top of the stack."
   ]
  },
  {
   "cell_type": "code",
   "execution_count": 8,
   "metadata": {},
   "outputs": [],
   "source": [
    "def process_operator(stack, postfix, operator):\n",
    "    while len(stack) > 0 and stack.peek() in precedence and precedence[stack.peek()] >= precedence[operator]:\n",
    "        top = stack.pop()\n",
    "        postfix.append(top)\n",
    "    stack.push(operator) # When the top of the stack is no longer an operator with a greater or equal precedence, push the current operator to the top of the stack"
   ]
  },
  {
   "cell_type": "markdown",
   "metadata": {},
   "source": [
    "* Operand (any number):\n",
    "  1. Append the token into the postfix token list."
   ]
  },
  {
   "cell_type": "code",
   "execution_count": 9,
   "metadata": {},
   "outputs": [],
   "source": [
    "def process_number(postfix, number):\n",
    "    postfix.append(number)"
   ]
  },
  {
   "cell_type": "markdown",
   "metadata": {},
   "source": [
    "## Implementing the Shunting-yard Algorithm\n",
    "\n",
    "We now have all of the pieces we need to implement the `infix_to_postfix()` function that converts an expression from infix notation to postfix notation.\n",
    "\n",
    "This function will work as follows:\n",
    "\n",
    "1. We start by splitting the expression into tokens using the `tokenise()` function.\n",
    "2. We initialise an empty stack.\n",
    "3. We intitialise an empty postfix token list.\n",
    "4. Iterate over all tokens, and for each, call the appropriate function that we defined above.\n",
    "5. After processing all tokens, we use a while loop to pop the remaining stack element into the postfix token list.\n",
    "6. Use the `str.join()` method to convert the postfix token list into a string."
   ]
  },
  {
   "cell_type": "code",
   "execution_count": 11,
   "metadata": {},
   "outputs": [],
   "source": [
    "# Define a function to convert infix expressions into postfix expressions\n",
    "def infix_to_postfix(expression):\n",
    "    tokens = tokenise(expression)\n",
    "    stack = Stack()\n",
    "    postfix = []\n",
    "    \n",
    "    for token in tokens:\n",
    "        if token == '(':\n",
    "            process_opening_parenthesis(stack)\n",
    "        elif token == ')':\n",
    "            process_closing_parenthesis(stack, postfix)\n",
    "        elif token in ('+', '-', '*', '/', '**'):\n",
    "            process_operator(stack, postfix, token)\n",
    "        else:\n",
    "            process_number(postfix, token)\n",
    "    \n",
    "    while stack.length > 0:\n",
    "        token = stack.pop()\n",
    "        postfix.append(token)\n",
    "    \n",
    "    return ' '.join(postfix)\n",
    "\n"
   ]
  },
  {
   "cell_type": "markdown",
   "metadata": {},
   "source": [
    "## Evaluating Infix Expressions\n",
    "\n",
    "Let's combine the `infix_to_postfix()` and `evaluate_postfix()` functions to evaluate strings containing numerical expressions written in infix notation."
   ]
  },
  {
   "cell_type": "code",
   "execution_count": 13,
   "metadata": {},
   "outputs": [
    {
     "name": "stdout",
     "output_type": "stream",
     "text": [
      "2.0\n",
      "0.0\n",
      "8.0\n",
      "11.25\n",
      "256.0\n",
      "65536.0\n",
      "0.5\n",
      "9.0\n",
      "1.0\n"
     ]
    }
   ],
   "source": [
    "# Define a function that evaluates infix numerical expressions\n",
    "def evaluate(expression):\n",
    "    postfix_expression = infix_to_postfix(expression)\n",
    "    return evaluate_postfix(postfix_expression)\n",
    "\n",
    "# Test the implementation\n",
    "expressions = [\n",
    "    \"1 + 1\",\n",
    "    \"1 * ( 2 - ( 1 + 1 ) )\",\n",
    "    \"4 * ( 1 + 2 * ( 9 / 3 ) - 5 )\",\n",
    "    \"10 + 3 * 5 / ( 16 - 4 * 1 )\",\n",
    "    \"2 * 2 * 2 * 2 * 2 * 2 * 2 * 2\",\n",
    "    \"2 ** 2 ** 2 ** 2 ** 2\",\n",
    "    \"( 1 - 2 ) / ( 3 - 5 )\",\n",
    "    \"9 / 8 * 8\",\n",
    "    \"64 / ( 8 * 8 )\",\n",
    "]\n",
    "\n",
    "for expression in expressions:\n",
    "    print(evaluate(expression))\n",
    "    "
   ]
  }
 ],
 "metadata": {
  "kernelspec": {
   "display_name": "Python 3",
   "language": "python",
   "name": "python3"
  },
  "language_info": {
   "codemirror_mode": {
    "name": "ipython",
    "version": 3
   },
   "file_extension": ".py",
   "mimetype": "text/x-python",
   "name": "python",
   "nbconvert_exporter": "python",
   "pygments_lexer": "ipython3",
   "version": "3.8.8"
  }
 },
 "nbformat": 4,
 "nbformat_minor": 1
}
